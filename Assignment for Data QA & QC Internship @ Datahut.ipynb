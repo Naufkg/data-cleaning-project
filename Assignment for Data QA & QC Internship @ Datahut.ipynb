{
 "cells": [
  {
   "cell_type": "markdown",
   "id": "96d71fa9-3bf2-4189-a92d-b218db80eeb2",
   "metadata": {},
   "source": [
    "#### Importing necessary modules"
   ]
  },
  {
   "cell_type": "code",
   "execution_count": 1,
   "id": "9c4a1571-d5f6-45fd-afb3-7c750f5c409b",
   "metadata": {},
   "outputs": [],
   "source": [
    "import numpy as np\n",
    "import pandas as pd\n",
    "from datetime import datetime"
   ]
  },
  {
   "cell_type": "markdown",
   "id": "9b29021e-3fac-41f1-8c71-431a3e6cd613",
   "metadata": {},
   "source": [
    "This imports the necessary libraries (pandas  and numpy for data manipulation and datetime for date handling) and loads the dataset into a pandas DataFrame."
   ]
  },
  {
   "cell_type": "markdown",
   "id": "8c699df7-b086-400a-95bf-79f069e17c35",
   "metadata": {},
   "source": [
    "#### Data Call"
   ]
  },
  {
   "cell_type": "code",
   "execution_count": 2,
   "id": "7b5ae0e3-8bfc-42a5-81b9-73e7c47875df",
   "metadata": {},
   "outputs": [
    {
     "data": {
      "text/html": [
       "<div>\n",
       "<style scoped>\n",
       "    .dataframe tbody tr th:only-of-type {\n",
       "        vertical-align: middle;\n",
       "    }\n",
       "\n",
       "    .dataframe tbody tr th {\n",
       "        vertical-align: top;\n",
       "    }\n",
       "\n",
       "    .dataframe thead th {\n",
       "        text-align: right;\n",
       "    }\n",
       "</style>\n",
       "<table border=\"1\" class=\"dataframe\">\n",
       "  <thead>\n",
       "    <tr style=\"text-align: right;\">\n",
       "      <th></th>\n",
       "      <th>Unnamed: 0</th>\n",
       "      <th>ID</th>\n",
       "      <th>Name</th>\n",
       "      <th>Age</th>\n",
       "      <th>Email</th>\n",
       "      <th>Join Date</th>\n",
       "      <th>Salary</th>\n",
       "      <th>Department</th>\n",
       "    </tr>\n",
       "  </thead>\n",
       "  <tbody>\n",
       "    <tr>\n",
       "      <th>0</th>\n",
       "      <td>0</td>\n",
       "      <td>1e407ff9-6255-489d-a0de-34135d4f74bd</td>\n",
       "      <td>Hunter Thomas</td>\n",
       "      <td>25.0</td>\n",
       "      <td>xlopez@hotmail.com</td>\n",
       "      <td>NaN</td>\n",
       "      <td>88552.000000</td>\n",
       "      <td>Sales</td>\n",
       "    </tr>\n",
       "    <tr>\n",
       "      <th>1</th>\n",
       "      <td>1</td>\n",
       "      <td>379f55b8-87d5-4739-a146-7400b78c24d1</td>\n",
       "      <td>Jeremy Irwin</td>\n",
       "      <td>90.0</td>\n",
       "      <td>Jillian Jenkins</td>\n",
       "      <td>2022-07-07</td>\n",
       "      <td>139227.000000</td>\n",
       "      <td>NaN</td>\n",
       "    </tr>\n",
       "    <tr>\n",
       "      <th>2</th>\n",
       "      <td>2</td>\n",
       "      <td>18261368-dfa1-47f0-afc6-bddf45926b07</td>\n",
       "      <td>Jennifer Hammondquickly</td>\n",
       "      <td>66.0</td>\n",
       "      <td>jscottgreen.biz</td>\n",
       "      <td>2023-11-21</td>\n",
       "      <td>65550.000000</td>\n",
       "      <td>Engineering</td>\n",
       "    </tr>\n",
       "    <tr>\n",
       "      <th>3</th>\n",
       "      <td>3</td>\n",
       "      <td>ae7cf7cf-17cf-4c8b-9c44-4f61a9a238e5</td>\n",
       "      <td>Sydney Taylorso</td>\n",
       "      <td>39.0</td>\n",
       "      <td>luke56gonzalez.com</td>\n",
       "      <td>2021-11-05</td>\n",
       "      <td>139932.000000</td>\n",
       "      <td>SupportJ</td>\n",
       "    </tr>\n",
       "    <tr>\n",
       "      <th>4</th>\n",
       "      <td>4</td>\n",
       "      <td>14ed3e6a-e0f5-4bbe-8d93-8665267f5c90</td>\n",
       "      <td>Julia Lee</td>\n",
       "      <td>71.0</td>\n",
       "      <td>figueroakayla@yahoo.com</td>\n",
       "      <td>NaN</td>\n",
       "      <td>143456.000000</td>\n",
       "      <td>Marketing</td>\n",
       "    </tr>\n",
       "    <tr>\n",
       "      <th>...</th>\n",
       "      <td>...</td>\n",
       "      <td>...</td>\n",
       "      <td>...</td>\n",
       "      <td>...</td>\n",
       "      <td>...</td>\n",
       "      <td>...</td>\n",
       "      <td>...</td>\n",
       "      <td>...</td>\n",
       "    </tr>\n",
       "    <tr>\n",
       "      <th>10995</th>\n",
       "      <td>6523</td>\n",
       "      <td>07c223be-03e6-4f70-a2b5-86df778cc61a</td>\n",
       "      <td>NaN</td>\n",
       "      <td>NaN</td>\n",
       "      <td>NaN</td>\n",
       "      <td>NaN</td>\n",
       "      <td>NaN</td>\n",
       "      <td>NaN</td>\n",
       "    </tr>\n",
       "    <tr>\n",
       "      <th>10996</th>\n",
       "      <td>9785</td>\n",
       "      <td>da8a6bbc-5026-4630-848d-f64e80dac56c</td>\n",
       "      <td>Steven Armstrong</td>\n",
       "      <td>38.0</td>\n",
       "      <td>molly89gmail.com</td>\n",
       "      <td>2021-06-24</td>\n",
       "      <td>NaN</td>\n",
       "      <td>Sales</td>\n",
       "    </tr>\n",
       "    <tr>\n",
       "      <th>10997</th>\n",
       "      <td>7826</td>\n",
       "      <td>ed19c966-d6d8-4047-b410-b6e595a39340</td>\n",
       "      <td>Stephanie Riossell</td>\n",
       "      <td>NaN</td>\n",
       "      <td>robert96@pollard-frye.com</td>\n",
       "      <td>15/08/2006</td>\n",
       "      <td>122609.594149</td>\n",
       "      <td>HR</td>\n",
       "    </tr>\n",
       "    <tr>\n",
       "      <th>10998</th>\n",
       "      <td>7648</td>\n",
       "      <td>783b36b4-d09f-46c9-8a52-7ff96b80863e</td>\n",
       "      <td>Bonnie Benitez</td>\n",
       "      <td>37.0</td>\n",
       "      <td>roypark@warren.net</td>\n",
       "      <td>2020-10-09</td>\n",
       "      <td>147322.005171</td>\n",
       "      <td>Support</td>\n",
       "    </tr>\n",
       "    <tr>\n",
       "      <th>10999</th>\n",
       "      <td>7107</td>\n",
       "      <td>fc25a38a-5747-46eb-b6d3-7173f8255809</td>\n",
       "      <td>Caroline Ochoa</td>\n",
       "      <td>53.0</td>\n",
       "      <td>cdavis@hodges.com</td>\n",
       "      <td>2023-08-10</td>\n",
       "      <td>149224.000000</td>\n",
       "      <td>Support</td>\n",
       "    </tr>\n",
       "  </tbody>\n",
       "</table>\n",
       "<p>11000 rows × 8 columns</p>\n",
       "</div>"
      ],
      "text/plain": [
       "       Unnamed: 0                                    ID  \\\n",
       "0               0  1e407ff9-6255-489d-a0de-34135d4f74bd   \n",
       "1               1  379f55b8-87d5-4739-a146-7400b78c24d1   \n",
       "2               2  18261368-dfa1-47f0-afc6-bddf45926b07   \n",
       "3               3  ae7cf7cf-17cf-4c8b-9c44-4f61a9a238e5   \n",
       "4               4  14ed3e6a-e0f5-4bbe-8d93-8665267f5c90   \n",
       "...           ...                                   ...   \n",
       "10995        6523  07c223be-03e6-4f70-a2b5-86df778cc61a   \n",
       "10996        9785  da8a6bbc-5026-4630-848d-f64e80dac56c   \n",
       "10997        7826  ed19c966-d6d8-4047-b410-b6e595a39340   \n",
       "10998        7648  783b36b4-d09f-46c9-8a52-7ff96b80863e   \n",
       "10999        7107  fc25a38a-5747-46eb-b6d3-7173f8255809   \n",
       "\n",
       "                          Name   Age                      Email   Join Date  \\\n",
       "0                Hunter Thomas  25.0         xlopez@hotmail.com         NaN   \n",
       "1                 Jeremy Irwin  90.0            Jillian Jenkins  2022-07-07   \n",
       "2      Jennifer Hammondquickly  66.0            jscottgreen.biz  2023-11-21   \n",
       "3              Sydney Taylorso  39.0         luke56gonzalez.com  2021-11-05   \n",
       "4                    Julia Lee  71.0    figueroakayla@yahoo.com         NaN   \n",
       "...                        ...   ...                        ...         ...   \n",
       "10995                      NaN   NaN                        NaN         NaN   \n",
       "10996         Steven Armstrong  38.0           molly89gmail.com  2021-06-24   \n",
       "10997       Stephanie Riossell   NaN  robert96@pollard-frye.com  15/08/2006   \n",
       "10998           Bonnie Benitez  37.0         roypark@warren.net  2020-10-09   \n",
       "10999           Caroline Ochoa  53.0          cdavis@hodges.com  2023-08-10   \n",
       "\n",
       "              Salary   Department  \n",
       "0       88552.000000        Sales  \n",
       "1      139227.000000          NaN  \n",
       "2       65550.000000  Engineering  \n",
       "3      139932.000000     SupportJ  \n",
       "4      143456.000000    Marketing  \n",
       "...              ...          ...  \n",
       "10995            NaN          NaN  \n",
       "10996            NaN        Sales  \n",
       "10997  122609.594149           HR  \n",
       "10998  147322.005171      Support  \n",
       "10999  149224.000000      Support  \n",
       "\n",
       "[11000 rows x 8 columns]"
      ]
     },
     "execution_count": 2,
     "metadata": {},
     "output_type": "execute_result"
    }
   ],
   "source": [
    "df=pd.read_csv('messy_data.csv')\n",
    "df"
   ]
  },
  {
   "cell_type": "markdown",
   "id": "2cf5ae42-764f-4f1c-bf62-fcd8928b1da9",
   "metadata": {},
   "source": [
    "#### Data Pre-processing"
   ]
  },
  {
   "cell_type": "code",
   "execution_count": 3,
   "id": "4a1a41d4-1913-4264-a067-1ab9acc081e6",
   "metadata": {},
   "outputs": [
    {
     "name": "stdout",
     "output_type": "stream",
     "text": [
      "<class 'pandas.core.frame.DataFrame'>\n",
      "RangeIndex: 11000 entries, 0 to 10999\n",
      "Data columns (total 8 columns):\n",
      " #   Column      Non-Null Count  Dtype  \n",
      "---  ------      --------------  -----  \n",
      " 0   Unnamed: 0  11000 non-null  int64  \n",
      " 1   ID          11000 non-null  object \n",
      " 2   Name        8667 non-null   object \n",
      " 3   Age         9253 non-null   float64\n",
      " 4   Email       9731 non-null   object \n",
      " 5   Join Date   8808 non-null   object \n",
      " 6   Salary      8761 non-null   float64\n",
      " 7   Department  8745 non-null   object \n",
      "dtypes: float64(2), int64(1), object(5)\n",
      "memory usage: 687.6+ KB\n"
     ]
    }
   ],
   "source": [
    "df.info()"
   ]
  },
  {
   "cell_type": "code",
   "execution_count": 4,
   "id": "3d8bbf37-5a76-4825-b3e4-4a3117c0c9ee",
   "metadata": {},
   "outputs": [
    {
     "data": {
      "text/plain": [
       "Index(['Unnamed: 0', 'ID', 'Name', 'Age', 'Email', 'Join Date', 'Salary',\n",
       "       'Department'],\n",
       "      dtype='object')"
      ]
     },
     "execution_count": 4,
     "metadata": {},
     "output_type": "execute_result"
    }
   ],
   "source": [
    "df.columns"
   ]
  },
  {
   "cell_type": "code",
   "execution_count": 5,
   "id": "c8248dbd-aee3-424d-8980-ced3662f4931",
   "metadata": {},
   "outputs": [
    {
     "data": {
      "text/plain": [
       "array([   0,    1,    2, ..., 9997, 9998, 9999], dtype=int64)"
      ]
     },
     "execution_count": 5,
     "metadata": {},
     "output_type": "execute_result"
    }
   ],
   "source": [
    "df['Unnamed: 0'].unique()"
   ]
  },
  {
   "cell_type": "code",
   "execution_count": 6,
   "id": "6a2cc97b-e4a8-4dbf-bf6a-1636b26fb854",
   "metadata": {},
   "outputs": [],
   "source": [
    "# Drop the 'Unnamed: 0' column \n",
    "df = df.drop(columns=['Unnamed: 0'])"
   ]
  },
  {
   "cell_type": "markdown",
   "id": "32d88e08-a38d-4871-9bc6-9a30cd3f0195",
   "metadata": {},
   "source": [
    "This column is often created when a DataFrame with an index is saved to a CSV file and then reloaded."
   ]
  },
  {
   "cell_type": "code",
   "execution_count": 7,
   "id": "315e5f2d-4e4b-4084-88e3-fe281013dee8",
   "metadata": {},
   "outputs": [
    {
     "data": {
      "text/plain": [
       "ID             object\n",
       "Name           object\n",
       "Age           float64\n",
       "Email          object\n",
       "Join Date      object\n",
       "Salary        float64\n",
       "Department     object\n",
       "dtype: object"
      ]
     },
     "execution_count": 7,
     "metadata": {},
     "output_type": "execute_result"
    }
   ],
   "source": [
    "df.dtypes"
   ]
  },
  {
   "cell_type": "code",
   "execution_count": 8,
   "id": "ecf41e50-6837-4fe1-a7ad-bf2b324eae42",
   "metadata": {},
   "outputs": [
    {
     "data": {
      "text/plain": [
       "ID               0\n",
       "Name          2333\n",
       "Age           1747\n",
       "Email         1269\n",
       "Join Date     2192\n",
       "Salary        2239\n",
       "Department    2255\n",
       "dtype: int64"
      ]
     },
     "execution_count": 8,
     "metadata": {},
     "output_type": "execute_result"
    }
   ],
   "source": [
    "#checking for missing values\n",
    "df.isnull().sum()"
   ]
  },
  {
   "cell_type": "code",
   "execution_count": 9,
   "id": "36cea7a6-ddb0-46d6-9560-2d0e3ae42cdd",
   "metadata": {},
   "outputs": [],
   "source": [
    "# 1.Handling Missing values"
   ]
  },
  {
   "cell_type": "code",
   "execution_count": 10,
   "id": "028d4534-351c-43ff-86b5-c5d81d53f33a",
   "metadata": {},
   "outputs": [],
   "source": [
    "# Drop rows where both 'Name' and 'Email' are missing\n",
    "df = df.dropna(subset=['Name', 'Email'], how='all')"
   ]
  },
  {
   "cell_type": "markdown",
   "id": "1f3d26e1-fe7a-457d-b8df-b0a94ab39822",
   "metadata": {},
   "source": [
    "Drops rows where both Name and Email are missing since these are critical fields for identifying individuals."
   ]
  },
  {
   "cell_type": "code",
   "execution_count": 11,
   "id": "b223101a-86eb-45f9-99b1-bfff7fe987e4",
   "metadata": {},
   "outputs": [],
   "source": [
    "#missing values in numerical columns\n",
    "# Impute missing 'Age' with the median\n",
    "df['Age'] = pd.to_numeric(df['Age'], errors='coerce')\n",
    "df['Age'] = df['Age'].fillna(df['Age'].median())"
   ]
  },
  {
   "cell_type": "markdown",
   "id": "4b3bf479-204f-4729-8994-63626e6f4fd1",
   "metadata": {},
   "source": [
    "Converts the Age column to numeric, coercing any errors to NaN, and then fills missing values with the median age."
   ]
  },
  {
   "cell_type": "markdown",
   "id": "54289b90-5067-49cd-8280-8b31c6d53c7c",
   "metadata": {},
   "source": [
    "If the Age column contains any non-numeric values (such as strings or other invalid entries), converting to numeric will coerce these invalid entries to NaN. This is crucial for data cleaning because it allows us to identify and handle these anomalies."
   ]
  },
  {
   "cell_type": "code",
   "execution_count": 12,
   "id": "968f8c02-82d9-4dbc-bf8a-7d707e8c425c",
   "metadata": {},
   "outputs": [],
   "source": [
    "# Convert 'Join Date' to datetime and fill missing with the median date\n",
    "df['Join Date'] = pd.to_datetime(df['Join Date'], errors='coerce')\n",
    "median_date = df['Join Date'].median()\n",
    "df['Join Date'] = df['Join Date'].fillna(median_date)"
   ]
  },
  {
   "cell_type": "markdown",
   "id": "ebb311a0-6b54-4676-a4df-d81a95a2fb7f",
   "metadata": {},
   "source": [
    "Converts the Join Date column to datetime, coercing any errors to NaN, and then fills missing values with the median date."
   ]
  },
  {
   "cell_type": "code",
   "execution_count": 13,
   "id": "8aa13571-a090-40d5-8b46-4680c24feef6",
   "metadata": {},
   "outputs": [],
   "source": [
    "# Impute missing 'Salary' with the median salary\n",
    "df['Salary'] = pd.to_numeric(df['Salary'], errors='coerce')\n",
    "df['Salary'] = df['Salary'].fillna(df['Salary'].median())"
   ]
  },
  {
   "cell_type": "code",
   "execution_count": 14,
   "id": "557b0e04-c3ec-485f-bc4b-6ad874c86ec1",
   "metadata": {},
   "outputs": [
    {
     "data": {
      "text/plain": [
       "array(['Sales', nan, 'Engineering', 'SupportJ', 'Marketing', 'SupportE',\n",
       "       'HR', 'Support', 'HRC', 'SalesA', 'SalesX', 'Supportu',\n",
       "       'Engineeringi', 'MarketingR', 'Salesw', 'SalesK', 'MarketingU',\n",
       "       'Salesi', 'HRa', 'SalesG', 'Supporty', 'SalesN', 'Marketinge',\n",
       "       'Marketingv', 'HRv', 'SalesM', 'EngineeringL', 'MarketingQ', 'HRs',\n",
       "       'SalesW', 'Supportj', 'Salesd', 'Marketingu', 'Engineeringj',\n",
       "       'SalesU', 'HRO', 'MarketingH', 'Salesj', 'Saleso', 'SalesZ',\n",
       "       'Engineeringe', 'MarketingF', 'Marketingr', 'Engineeringm', 'HRW',\n",
       "       'HRt', 'HRz', 'Engineeringp', 'HRF', 'EngineeringS', 'SupportW',\n",
       "       'EngineeringT', 'SalesC', 'SalesB', 'SupportC', 'SalesY',\n",
       "       'Marketingn', 'EngineeringK', 'Marketingz', 'HRo', 'SupportB',\n",
       "       'HRi', 'Salest', 'Supportg', 'Supporta', 'HRn', 'SupportQ',\n",
       "       'Salesr', 'EngineeringG', 'Supportm', 'Supporto', 'EngineeringH',\n",
       "       'Marketingw', 'EngineeringM', 'Supportz', 'HRr', 'Salesy',\n",
       "       'MarketingD', 'HRE', 'Marketingm', 'HRw', 'Marketingo', 'Supportk',\n",
       "       'MarketingN', 'SupportS', 'EngineeringD', 'Marketingp', 'Salesl',\n",
       "       'MarketingI', 'MarketingL', 'SupportT', 'Engineeringn',\n",
       "       'MarketingO', 'SalesF', 'Salesz', 'Marketingt', 'Engineeringv',\n",
       "       'HRL', 'HRI', 'EngineeringR', 'HRD', 'Marketingk', 'HRQ', 'Salese',\n",
       "       'Saless', 'Marketingi', 'Salesn', 'Engineeringl', 'SalesE', 'HRy',\n",
       "       'EngineeringE', 'SalesD', 'HRm', 'Engineerings', 'SupportF',\n",
       "       'Marketingy', 'MarketingG', 'SalesI', 'Salesu', 'Engineeringg',\n",
       "       'EngineeringQ', 'MarketingE', 'SupportA', 'Engineeringq',\n",
       "       'EngineeringA', 'Supporte', 'Engineeringu', 'EngineeringO',\n",
       "       'SalesS', 'Supportv', 'HRK', 'Engineeringb', 'SalesV', 'HRT',\n",
       "       'SupportY', 'SalesQ', 'MarketingX', 'Supportp', 'Marketingf',\n",
       "       'HRU', 'HRp', 'Salesq', 'HRg', 'Marketingl', 'EngineeringV',\n",
       "       'Engineeringt', 'SupportO', 'SalesJ', 'EngineeringX',\n",
       "       'Engineeringc', 'Marketingh', 'EngineeringC', 'Engineeringz',\n",
       "       'HRP', 'Salesv', 'Engineeringk', 'SupportH', 'Salesk', 'Supporth',\n",
       "       'SupportZ', 'Supportq', 'Supportr', 'HRJ', 'Supportd', 'HRZ',\n",
       "       'MarketingZ', 'Salesc', 'EngineeringJ', 'Engineeringx', 'SalesR',\n",
       "       'Engineeringh', 'Supportl', 'SupportX', 'Marketingg', 'SalesH',\n",
       "       'MarketingC', 'SupportV', 'HRq', 'Marketingb', 'Supporti',\n",
       "       'Supportw', 'SupportL', 'Marketings', 'Marketingq', 'HRM',\n",
       "       'Supportt', 'HRX', 'HRl', 'EngineeringF', 'SupportP', 'HRf',\n",
       "       'MarketingB', 'Engineeringf', 'EngineeringW', 'HRB',\n",
       "       'Engineeringy', 'Marketinga', 'HRj', 'HRd', 'SupportI', 'HRA',\n",
       "       'Marketingj', 'MarketingV', 'EngineeringI', 'HRY', 'EngineeringZ',\n",
       "       'MarketingY', 'Marketingx', 'HRH', 'HRN', 'MarketingJ',\n",
       "       'MarketingW', 'HRh', 'Supportb', 'SalesT', 'Supportn',\n",
       "       'Engineeringa', 'SupportG', 'SalesO', 'SupportK', 'Engineeringd',\n",
       "       'HRk', 'Marketingd', 'MarketingS', 'MarketingT', 'HRR',\n",
       "       'Engineeringw', 'Salesg', 'HRb', 'SupportN', 'Marketingc',\n",
       "       'EngineeringU', 'Supportx', 'Salesp', 'HRu', 'MarketingK',\n",
       "       'SalesL', 'Salesx', 'SupportD', 'Supports', 'Salesm',\n",
       "       'Engineeringr', 'HRe', 'SupportM', 'MarketingM', 'SupportR',\n",
       "       'SupportU', 'Salesa', 'Salesf', 'Supportf', 'Salesh', 'Salesb',\n",
       "       'EngineeringB', 'HRG', 'Engineeringo', 'EngineeringN', 'HRV',\n",
       "       'HRS', 'SalesP', 'Supportc', 'HRx', 'EngineeringP', 'HRc',\n",
       "       'MarketingP', 'MarketingA'], dtype=object)"
      ]
     },
     "execution_count": 14,
     "metadata": {},
     "output_type": "execute_result"
    }
   ],
   "source": [
    "df['Department'].unique()"
   ]
  },
  {
   "cell_type": "code",
   "execution_count": 15,
   "id": "9318d421-8792-45c3-8c85-c5bbbf3ef6c2",
   "metadata": {},
   "outputs": [],
   "source": [
    "# Impute missing 'Department' with the mode or 'Unknown'\n",
    "df['Department'] = df['Department'].fillna(df['Department'].mode()[0])"
   ]
  },
  {
   "cell_type": "markdown",
   "id": "79cbb4f7-1f00-46a7-a9c3-d43725f2d1c2",
   "metadata": {},
   "source": [
    "Fills missing values in the Department column with the most frequent department (mode)."
   ]
  },
  {
   "cell_type": "markdown",
   "id": "66354f20-be7d-4656-8ef8-6266b078fb84",
   "metadata": {},
   "source": [
    "The mode function may returns a series of modes , there could be multiple modes and there will be a tie . In such situation we choose the first occuring as the mode for the we use '[0]'.It selects the first mode in case there is a tie"
   ]
  },
  {
   "cell_type": "markdown",
   "id": "071c06b1-048c-4b54-89cd-ca79f69e7e4d",
   "metadata": {},
   "source": [
    "To determine which department names are correct and which ones are incorrect, you can follow a systematic approach that involves analyzing the unique values in the Department column, identifying obvious typos or inconsistencies, and potentially cross-referencing with a list of valid department names"
   ]
  },
  {
   "cell_type": "code",
   "execution_count": 16,
   "id": "2153c1d0-474c-48e5-afc3-e14d927d2684",
   "metadata": {},
   "outputs": [
    {
     "name": "stdout",
     "output_type": "stream",
     "text": [
      "Unique departments before cleaning:\n",
      "['Sales' 'Support' 'Engineering' 'SupportJ' 'Marketing' 'SupportE' 'HR'\n",
      " 'HRC' 'SalesA' 'SalesX' 'Supportu' 'Engineeringi' 'MarketingR' 'Salesw'\n",
      " 'SalesK' 'MarketingU' 'Salesi' 'HRa' 'SalesG' 'Supporty' 'SalesN'\n",
      " 'Marketinge' 'Marketingv' 'HRv' 'SalesM' 'EngineeringL' 'MarketingQ'\n",
      " 'HRs' 'SalesW' 'Supportj' 'Salesd' 'Marketingu' 'Engineeringj' 'SalesU'\n",
      " 'HRO' 'MarketingH' 'Salesj' 'Saleso' 'SalesZ' 'Engineeringe' 'MarketingF'\n",
      " 'Marketingr' 'Engineeringm' 'HRW' 'HRt' 'HRz' 'Engineeringp' 'HRF'\n",
      " 'EngineeringS' 'SupportW' 'EngineeringT' 'SalesC' 'SalesB' 'SupportC'\n",
      " 'SalesY' 'Marketingn' 'EngineeringK' 'Marketingz' 'HRo' 'SupportB' 'HRi'\n",
      " 'Salest' 'Supportg' 'Supporta' 'HRn' 'SupportQ' 'Salesr' 'EngineeringG'\n",
      " 'Supportm' 'Supporto' 'EngineeringH' 'Marketingw' 'EngineeringM'\n",
      " 'Supportz' 'HRr' 'Salesy' 'MarketingD' 'HRE' 'Marketingm' 'HRw'\n",
      " 'Marketingo' 'Supportk' 'MarketingN' 'SupportS' 'EngineeringD'\n",
      " 'Marketingp' 'Salesl' 'MarketingI' 'MarketingL' 'SupportT' 'Engineeringn'\n",
      " 'MarketingO' 'SalesF' 'Salesz' 'Marketingt' 'Engineeringv' 'HRL' 'HRI'\n",
      " 'EngineeringR' 'HRD' 'Marketingk' 'HRQ' 'Salese' 'Saless' 'Marketingi'\n",
      " 'Salesn' 'Engineeringl' 'SalesE' 'HRy' 'EngineeringE' 'SalesD' 'HRm'\n",
      " 'Engineerings' 'SupportF' 'Marketingy' 'MarketingG' 'SalesI' 'Salesu'\n",
      " 'Engineeringg' 'EngineeringQ' 'MarketingE' 'SupportA' 'Engineeringq'\n",
      " 'EngineeringA' 'Supporte' 'Engineeringu' 'EngineeringO' 'SalesS'\n",
      " 'Supportv' 'HRK' 'Engineeringb' 'SalesV' 'HRT' 'SupportY' 'SalesQ'\n",
      " 'MarketingX' 'Supportp' 'Marketingf' 'HRU' 'HRp' 'Salesq' 'HRg'\n",
      " 'Marketingl' 'EngineeringV' 'Engineeringt' 'SupportO' 'SalesJ'\n",
      " 'EngineeringX' 'Engineeringc' 'Marketingh' 'EngineeringC' 'Engineeringz'\n",
      " 'HRP' 'Salesv' 'Engineeringk' 'SupportH' 'Salesk' 'Supporth' 'SupportZ'\n",
      " 'Supportq' 'Supportr' 'HRJ' 'Supportd' 'HRZ' 'MarketingZ' 'Salesc'\n",
      " 'EngineeringJ' 'Engineeringx' 'SalesR' 'Engineeringh' 'Supportl'\n",
      " 'SupportX' 'Marketingg' 'SalesH' 'MarketingC' 'SupportV' 'HRq'\n",
      " 'Marketingb' 'Supporti' 'Supportw' 'SupportL' 'Marketings' 'Marketingq'\n",
      " 'HRM' 'Supportt' 'HRX' 'HRl' 'EngineeringF' 'SupportP' 'HRf' 'MarketingB'\n",
      " 'Engineeringf' 'EngineeringW' 'HRB' 'Engineeringy' 'Marketinga' 'HRj'\n",
      " 'HRd' 'SupportI' 'HRA' 'Marketingj' 'MarketingV' 'EngineeringI' 'HRY'\n",
      " 'EngineeringZ' 'MarketingY' 'Marketingx' 'HRH' 'HRN' 'MarketingJ'\n",
      " 'MarketingW' 'HRh' 'Supportb' 'SalesT' 'Supportn' 'Engineeringa'\n",
      " 'SupportG' 'SalesO' 'SupportK' 'Engineeringd' 'HRk' 'Marketingd'\n",
      " 'MarketingS' 'MarketingT' 'HRR' 'Engineeringw' 'Salesg' 'HRb' 'SupportN'\n",
      " 'Marketingc' 'EngineeringU' 'Supportx' 'Salesp' 'HRu' 'MarketingK'\n",
      " 'SalesL' 'Salesx' 'SupportD' 'Supports' 'Salesm' 'Engineeringr' 'HRe'\n",
      " 'SupportM' 'MarketingM' 'SupportR' 'SupportU' 'Salesa' 'Salesf'\n",
      " 'Supportf' 'Salesh' 'Salesb' 'EngineeringB' 'HRG' 'Engineeringo'\n",
      " 'EngineeringN' 'HRV' 'HRS' 'SalesP' 'Supportc' 'HRx' 'EngineeringP' 'HRc'\n",
      " 'MarketingP' 'MarketingA']\n"
     ]
    }
   ],
   "source": [
    "# List unique department names\n",
    "unique_departments = df['Department'].unique()\n",
    "print(\"Unique departments before cleaning:\")\n",
    "print(unique_departments)"
   ]
  },
  {
   "cell_type": "code",
   "execution_count": 17,
   "id": "e67df48a-12a4-44e6-9ea0-d78fc5f8a641",
   "metadata": {},
   "outputs": [],
   "source": [
    "#mapping of incorrect to correct department names\n",
    "department_mapping = {\n",
    "    'SupportJ': 'Support', 'SupportE': 'Support', 'Supportu': 'Support', 'Supporty': 'Support', \n",
    "    'Supportj': 'Support', 'Supportg': 'Support', 'Supporta': 'Support', 'SupportQ': 'Support', \n",
    "    'Supportm': 'Support', 'Supporto': 'Support', 'Supportz': 'Support', 'Supportk': 'Support', \n",
    "    'SupportS': 'Support', 'SupportW': 'Support', 'SupportC': 'Support', 'SupportB': 'Support', \n",
    "    'Supportv': 'Support', 'SupportA': 'Support', 'Supporte': 'Support', 'SupportT': 'Support', \n",
    "    'Supportd': 'Support', 'Supportl': 'Support', 'SupportX': 'Support', 'Supporti': 'Support', \n",
    "    'Supportw': 'Support', 'SupportL': 'Support', 'Supportp': 'Support', 'SupportO': 'Support', \n",
    "    'SupportH': 'Support', 'Supporth': 'Support', 'SupportZ': 'Support', 'Supportq': 'Support', \n",
    "    'Supportr': 'Support', 'SupportI': 'Support', 'SupportV': 'Support', 'Supportt': 'Support', \n",
    "    'SupportP': 'Support', 'Supportf': 'Support', 'Supportn': 'Support', 'SupportG': 'Support', \n",
    "    'SupportK': 'Support', 'SupportN': 'Support', 'SupportR': 'Support', 'SupportU': 'Support', \n",
    "    'SupportM': 'Support', 'SupportF': 'Support', 'Supports': 'Support', 'Supportc': 'Support', \n",
    "    'SupportD': 'Support', 'SupportY': 'Support', 'Supportb': 'Support', 'Supportx': 'Support',\n",
    "\n",
    "    'SalesA': 'Sales', 'SalesX': 'Sales', 'Salesw': 'Sales', 'SalesK': 'Sales', \n",
    "    'Salesi': 'Sales', 'SalesG': 'Sales', 'SalesN': 'Sales', 'SalesM': 'Sales', \n",
    "    'SalesW': 'Sales', 'Salesd': 'Sales', 'SalesU': 'Sales', 'Salesj': 'Sales', \n",
    "    'Saleso': 'Sales', 'SalesZ': 'Sales', 'Salesl': 'Sales', 'SalesF': 'Sales', \n",
    "    'Salesz': 'Sales', 'SalesT': 'Sales', 'Salesg': 'Sales', 'Salesc': 'Sales', \n",
    "    'SalesR': 'Sales', 'Salesy': 'Sales', 'SalesD': 'Sales', 'SalesE': 'Sales', \n",
    "    'SalesI': 'Sales', 'Salesu': 'Sales', 'SalesS': 'Sales', 'Salesv': 'Sales', \n",
    "    'Salesq': 'Sales', 'SalesP': 'Sales', 'Salesx': 'Sales', 'Salesm': 'Sales', \n",
    "    'Salest': 'Sales', 'Salesa': 'Sales', 'Salesf': 'Sales', 'Salesh': 'Sales', \n",
    "    'Salesb': 'Sales', 'SalesQ': 'Sales', 'SalesJ': 'Sales', 'SalesL': 'Sales', \n",
    "    'Salesp': 'Sales', 'Salese': 'Sales', 'Saless': 'Sales', 'SalesO': 'Sales',\n",
    "\n",
    "    'Engineeringi': 'Engineering', 'EngineeringL': 'Engineering', 'Engineeringj': 'Engineering', \n",
    "    'Engineeringe': 'Engineering', 'Engineeringm': 'Engineering', 'Engineeringp': 'Engineering', \n",
    "    'EngineeringS': 'Engineering', 'EngineeringT': 'Engineering', 'EngineeringK': 'Engineering', \n",
    "    'Engineeringj': 'Engineering', 'EngineeringD': 'Engineering', 'EngineeringG': 'Engineering', \n",
    "    'EngineeringH': 'Engineering', 'EngineeringM': 'Engineering', 'EngineeringQ': 'Engineering', \n",
    "    'Engineeringb': 'Engineering', 'EngineeringX': 'Engineering', 'Engineeringc': 'Engineering', \n",
    "    'Engineeringh': 'Engineering', 'Engineeringv': 'Engineering', 'Engineeringw': 'Engineering', \n",
    "    'EngineeringP': 'Engineering', 'Engineeringo': 'Engineering', 'EngineeringN': 'Engineering', \n",
    "    'Engineeringl': 'Engineering', 'Engineeringf': 'Engineering', 'Engineeringy': 'Engineering', \n",
    "    'EngineeringU': 'Engineering', 'Engineeringa': 'Engineering', 'Engineeringd': 'Engineering', \n",
    "    'Engineerings': 'Engineering', 'EngineeringR': 'Engineering', 'Engineeringk': 'Engineering', \n",
    "    'EngineeringC': 'Engineering', 'Engineeringz': 'Engineering', 'EngineeringF': 'Engineering', \n",
    "    'EngineeringJ': 'Engineering', 'Engineeringx': 'Engineering', 'Engineeringr': 'Engineering', \n",
    "    'Engineeringq': 'Engineering', 'EngineeringA': 'Engineering', 'Engineeringu': 'Engineering', \n",
    "    'EngineeringO': 'Engineering', 'EngineeringB': 'Engineering', 'EngineeringE': 'Engineering', \n",
    "    'EngineeringI': 'Engineering', 'EngineeringZ': 'Engineering', 'EngineeringV': 'Engineering', \n",
    "    'Engineeringn': 'Engineering',\n",
    "\n",
    "    'MarketingR': 'Marketing', 'MarketingU': 'Marketing', 'Marketinge': 'Marketing', \n",
    "    'Marketingv': 'Marketing', 'MarketingQ': 'Marketing', 'Marketingu': 'Marketing', \n",
    "    'MarketingH': 'Marketing', 'MarketingF': 'Marketing', 'Marketingr': 'Marketing', \n",
    "    'Marketingm': 'Marketing', 'Marketingw': 'Marketing', 'MarketingI': 'Marketing', \n",
    "    'MarketingL': 'Marketing', 'MarketingO': 'Marketing', 'Marketingt': 'Marketing', \n",
    "    'Marketingp': 'Marketing', 'Marketingk': 'Marketing', 'Marketingi': 'Marketing', \n",
    "    'MarketingD': 'Marketing', 'Marketingo': 'Marketing', 'MarketingN': 'Marketing', \n",
    "    'Marketingf': 'Marketing', 'Marketingl': 'Marketing', 'Marketingh': 'Marketing', \n",
    "    'MarketingC': 'Marketing', 'Marketingg': 'Marketing', 'MarketingB': 'Marketing', \n",
    "    'Marketingy': 'Marketing', 'Marketinga': 'Marketing', 'Marketingz': 'Marketing', \n",
    "    'Marketingn': 'Marketing', 'MarketingQ': 'Marketing', 'MarketingV': 'Marketing', \n",
    "    'Marketingd': 'Marketing', 'MarketingS': 'Marketing', 'MarketingT': 'Marketing', \n",
    "    'MarketingZ': 'Marketing', 'Marketingx': 'Marketing', 'MarketingK': 'Marketing', \n",
    "    'MarketingJ': 'Marketing', 'MarketingW': 'Marketing', 'MarketingX': 'Marketing', \n",
    "    'MarketingP': 'Marketing', 'MarketingA': 'Marketing', 'MarketingG': 'Marketing',\n",
    "\n",
    "    'HRC': 'HR', 'HRa': 'HR', 'HRv': 'HR', 'HRs': 'HR', \n",
    "    'HRO': 'HR', 'HRF': 'HR', 'HRo': 'HR', 'HRi': 'HR', \n",
    "    'HRn': 'HR', 'HRW': 'HR', 'HRt': 'HR', 'HRz': 'HR', \n",
    "    'HRr': 'HR', 'HRw': 'HR', 'HRU': 'HR', 'HRL': 'HR', \n",
    "    'HRI': 'HR', 'HRD': 'HR', 'HRQ': 'HR', 'HRy': 'HR', \n",
    "    'HRm': 'HR', 'HRE': 'HR', 'HRk': 'HR', 'HRp': 'HR', \n",
    "    'HRg': 'HR', 'HRM': 'HR', 'HRX': 'HR', 'HRl': 'HR', \n",
    "    'HRG': 'HR', 'HRB': 'HR', 'HRV': 'HR', 'HRS': 'HR', \n",
    "    'HRx': 'HR', 'HRc': 'HR', 'HRj': 'HR', 'HRd': 'HR', \n",
    "    'HRA': 'HR', 'HRP': 'HR', 'HRZ': 'HR', 'HRh': 'HR', \n",
    "    'HRH': 'HR', 'HRN': 'HR', 'HRJ': 'HR', 'HRR': 'HR', \n",
    "    'HRu': 'HR', 'HRK': 'HR', 'HRf': 'HR', 'HRk': 'HR',\n",
    "    'HRe': 'HR'\n",
    "}"
   ]
  },
  {
   "cell_type": "markdown",
   "id": "8ce690c4-5d42-4c52-8f0b-6d17b1210512",
   "metadata": {},
   "source": [
    "use the replace method to update the Department column with the correct names:"
   ]
  },
  {
   "cell_type": "code",
   "execution_count": 18,
   "id": "1a7c13b9-a72b-4fc7-8ff6-f66711186a5c",
   "metadata": {},
   "outputs": [
    {
     "name": "stdout",
     "output_type": "stream",
     "text": [
      "Unique departments after cleaning:\n",
      "['Sales' 'Support' 'Engineering' 'Marketing' 'HR' 'SalesC' 'SalesB'\n",
      " 'SalesY' 'Salesr' 'Salesn' 'Engineeringg' 'MarketingE' 'SalesV' 'HRT'\n",
      " 'Engineeringt' 'Salesk' 'SalesH' 'HRq' 'Marketingb' 'Marketings'\n",
      " 'Marketingq' 'EngineeringW' 'Marketingj' 'HRY' 'MarketingY' 'HRb'\n",
      " 'Marketingc' 'MarketingM']\n"
     ]
    }
   ],
   "source": [
    "df['Department'] = df['Department'].replace(department_mapping)\n",
    "\n",
    "# Check the unique values after replacement\n",
    "final_unique_departments = df['Department'].unique()\n",
    "print(\"Unique departments after cleaning:\")\n",
    "print(final_unique_departments)"
   ]
  },
  {
   "cell_type": "markdown",
   "id": "73018777-e185-4c99-8d8b-c11a3f441178",
   "metadata": {},
   "source": [
    "There are still some department names that are not corrected."
   ]
  },
  {
   "cell_type": "code",
   "execution_count": 19,
   "id": "526956f5-633b-4c39-9679-b7a803bee7d5",
   "metadata": {},
   "outputs": [
    {
     "name": "stdout",
     "output_type": "stream",
     "text": [
      "Remaining incorrect departments:\n",
      "['SalesC', 'SalesB', 'SalesY', 'Salesr', 'Salesn', 'Engineeringg', 'MarketingE', 'SalesV', 'HRT', 'Engineeringt', 'Salesk', 'SalesH', 'HRq', 'Marketingb', 'Marketings', 'Marketingq', 'EngineeringW', 'Marketingj', 'HRY', 'MarketingY', 'HRb', 'Marketingc', 'MarketingM']\n"
     ]
    }
   ],
   "source": [
    "#the remaining department names that need to be corrected:\n",
    "remaining_incorrect_departments = [\n",
    "    'SalesC', 'SalesB', 'SalesY', 'Salesr', 'Salesn', 'Engineeringg', \n",
    "    'MarketingE', 'SalesV', 'HRT', 'Engineeringt', 'Salesk', 'SalesH', \n",
    "    'HRq', 'Marketingb', 'Marketings', 'Marketingq', 'EngineeringW', \n",
    "    'Marketingj', 'HRY', 'MarketingY', 'HRb', 'Marketingc', 'MarketingM'\n",
    "]\n",
    "print(\"Remaining incorrect departments:\")\n",
    "print(remaining_incorrect_departments)"
   ]
  },
  {
   "cell_type": "code",
   "execution_count": 20,
   "id": "0439042c-1d55-4398-a733-f8189581ac6e",
   "metadata": {},
   "outputs": [],
   "source": [
    "#new mappings based on the observed patterns:\n",
    "additional_department_mapping = {\n",
    "    'SalesC': 'Sales', 'SalesB': 'Sales', 'SalesY': 'Sales', 'Salesr': 'Sales', \n",
    "    'Salesn': 'Sales', 'Engineeringg': 'Engineering', 'MarketingE': 'Marketing', \n",
    "    'SalesV': 'Sales', 'HRT': 'HR', 'Engineeringt': 'Engineering', 'Salesk': 'Sales', \n",
    "    'SalesH': 'Sales', 'HRq': 'HR', 'Marketingb': 'Marketing', 'Marketings': 'Marketing', \n",
    "    'Marketingq': 'Marketing', 'EngineeringW': 'Engineering', 'Marketingj': 'Marketing', \n",
    "    'HRY': 'HR', 'MarketingY': 'Marketing', 'HRb': 'HR', 'Marketingc': 'Marketing', \n",
    "    'MarketingM': 'Marketing'\n",
    "}\n",
    "\n",
    "# Combine with the original dictionary\n",
    "department_mapping.update(additional_department_mapping)\n"
   ]
  },
  {
   "cell_type": "code",
   "execution_count": 21,
   "id": "57555188-b7d0-4976-80da-d27390c99fdf",
   "metadata": {},
   "outputs": [
    {
     "name": "stdout",
     "output_type": "stream",
     "text": [
      "Unique departments after final cleaning:\n",
      "['Sales' 'Support' 'Engineering' 'Marketing' 'HR']\n"
     ]
    }
   ],
   "source": [
    "#the updated dictionary to clean the Department column:\n",
    "df['Department'] = df['Department'].replace(department_mapping)\n",
    "\n",
    "# Check the unique values after the final replacement\n",
    "final_unique_departments = df['Department'].unique()\n",
    "print(\"Unique departments after final cleaning:\")\n",
    "print(final_unique_departments)"
   ]
  },
  {
   "cell_type": "markdown",
   "id": "57c67cab-3a5f-4114-b7a8-7886cb72e558",
   "metadata": {},
   "source": [
    "The issue with the department names persisting after the initial corrections might be due to a few reasons, such as case sensitivity, leading/trailing spaces, or not fully covering all variations."
   ]
  },
  {
   "cell_type": "markdown",
   "id": "abdb59b3-4f7f-4562-8601-e9c7a2e7d052",
   "metadata": {},
   "source": [
    "Strip Leading/Trailing Spaces:\n",
    "Remove any leading or trailing spaces from the department names.\n",
    "\n",
    "Normalize Case:\n",
    "Convert all department names to lowercase or uppercase to ensure consistency.\n",
    "\n",
    "Review Remaining Unique Department Names:\n",
    "Identify any remaining incorrect department names and their correct counterparts.\n",
    "\n",
    "Update the Mapping Dictionary:\n",
    "Ensure all potential variations are covered.\n",
    "\n",
    "Apply the Updated Mapping to the DataFrame:\n",
    "Clean the Department column using the comprehensive mapping dictionary."
   ]
  },
  {
   "cell_type": "raw",
   "id": "8c970d9a-cf87-4069-8d6e-c138305ccb61",
   "metadata": {},
   "source": [
    "'SalesC', 'SalesB', 'SalesY', 'Salesr', 'Salesn', 'SalesV', 'Salesk', 'SalesH' should all be mapped to 'Sales'.\n",
    "'Engineeringg', 'Engineeringt', 'EngineeringW' should be mapped to 'Engineering'.\n",
    "'MarketingE', 'Marketingb', 'Marketings', 'Marketingq', 'Marketingj', 'MarketingY', 'Marketingc', 'MarketingM' should be mapped to 'Marketing'.\n",
    "'HRT', 'HRq', 'HRY', 'HRb' should be mapped to 'HR'."
   ]
  },
  {
   "cell_type": "code",
   "execution_count": 22,
   "id": "f9a12243-9ce6-4bc7-8e29-b287587ac592",
   "metadata": {},
   "outputs": [],
   "source": [
    "additional_department_mapping = {\n",
    "    'SalesC': 'Sales', 'SalesB': 'Sales', 'SalesY': 'Sales', 'Salesr': 'Sales', \n",
    "    'Salesn': 'Sales', 'SalesV': 'Sales', 'Salesk': 'Sales', 'SalesH': 'Sales',\n",
    "    'Engineeringg': 'Engineering', 'Engineeringt': 'Engineering', 'EngineeringW': 'Engineering',\n",
    "    'MarketingE': 'Marketing', 'Marketingb': 'Marketing', 'Marketings': 'Marketing', \n",
    "    'Marketingq': 'Marketing', 'Marketingj': 'Marketing', 'MarketingY': 'Marketing',\n",
    "    'Marketingc': 'Marketing', 'MarketingM': 'Marketing',\n",
    "    'HRT': 'HR', 'HRq': 'HR', 'HRY': 'HR', 'HRb': 'HR'\n",
    "}\n",
    "\n",
    "# Combine with the original dictionary\n",
    "department_mapping.update(additional_department_mapping)"
   ]
  },
  {
   "cell_type": "code",
   "execution_count": 23,
   "id": "2d1c0d0d-1ba0-4592-bb59-332bd09efd10",
   "metadata": {},
   "outputs": [
    {
     "name": "stdout",
     "output_type": "stream",
     "text": [
      "Unique departments after final cleaning:\n",
      "['Sales' 'Support' 'Engineering' 'Marketing' 'HR']\n"
     ]
    }
   ],
   "source": [
    "df['Department'] = df['Department'].replace(department_mapping)\n",
    "\n",
    "# Check the unique values after the final replacement\n",
    "final_unique_departments = df['Department'].unique()\n",
    "print(\"Unique departments after final cleaning:\")\n",
    "print(final_unique_departments)"
   ]
  },
  {
   "cell_type": "code",
   "execution_count": 24,
   "id": "17d34e62-a506-4b46-9264-aced40532792",
   "metadata": {},
   "outputs": [
    {
     "data": {
      "text/plain": [
       "array(['Sales', 'Support', 'Engineering', 'Marketing', 'HR'], dtype=object)"
      ]
     },
     "execution_count": 24,
     "metadata": {},
     "output_type": "execute_result"
    }
   ],
   "source": [
    "df['Department'].unique()"
   ]
  },
  {
   "cell_type": "code",
   "execution_count": 25,
   "id": "c477a24f-e193-45c5-bbcb-119006270a5a",
   "metadata": {},
   "outputs": [],
   "source": [
    "#Ensuring the datatypes\n",
    "# Ensure 'Join Date' is datetime\n",
    "df['Join Date'] = pd.to_datetime(df['Join Date'], errors='coerce')\n",
    "\n",
    "# Ensure 'Age' and 'Salary' are numeric\n",
    "df['Age'] = pd.to_numeric(df['Age'], errors='coerce')\n",
    "df['Salary'] = pd.to_numeric(df['Salary'], errors='coerce')"
   ]
  },
  {
   "cell_type": "markdown",
   "id": "790ed0da-4051-4c1a-ba50-c694bea7692b",
   "metadata": {},
   "source": [
    "Ensures the Join Date column is of datetime type and Age and Salary columns are numeric."
   ]
  },
  {
   "cell_type": "markdown",
   "id": "83c6e062-c51d-4cc0-9f2f-0a42736dd0be",
   "metadata": {},
   "source": [
    "error = coerce , means coercing any error to NaN ,and dealing with it"
   ]
  },
  {
   "cell_type": "markdown",
   "id": "f0ed61dd-4db6-4f0c-9b33-7084c5fd0cde",
   "metadata": {},
   "source": [
    "##### Outliers detection and removal"
   ]
  },
  {
   "cell_type": "markdown",
   "id": "dc6805ed-2be5-4b8d-8133-fce2c5d34381",
   "metadata": {},
   "source": [
    "detect outliers in the  dataset, focusing on numeric columns like Age and Salary."
   ]
  },
  {
   "cell_type": "code",
   "execution_count": 26,
   "id": "152aa27b-9db1-4e26-82ab-54634969ede5",
   "metadata": {},
   "outputs": [
    {
     "data": {
      "image/png": "[encoded data removed]",
      "text/plain": [
       "<Figure size 1200x600 with 1 Axes>"
      ]
     },
     "metadata": {},
     "output_type": "display_data"
    }
   ],
   "source": [
    "import matplotlib.pyplot as plt\n",
    "import seaborn as sns\n",
    "# Box plot for Age\n",
    "plt.figure(figsize=(12, 6))\n",
    "plt.subplot(1, 2, 1)\n",
    "sns.boxplot(y=df['Age'])\n",
    "plt.title('Box Plot of Age')\n",
    "plt.show()"
   ]
  },
  {
   "cell_type": "code",
   "execution_count": 27,
   "id": "ba29bef5-b394-48f8-9608-20e35b6be930",
   "metadata": {},
   "outputs": [
    {
     "data": {
      "image/png": "[encoded data removed]",
      "text/plain": [
       "<Figure size 1200x600 with 1 Axes>"
      ]
     },
     "metadata": {},
     "output_type": "display_data"
    }
   ],
   "source": [
    "# Histogram for Age\n",
    "plt.figure(figsize=(12, 6))\n",
    "plt.subplot(1, 2, 1)\n",
    "sns.histplot(df['Age'], bins=50, kde=True)\n",
    "plt.title('Histogram of Age')\n",
    "plt.show()"
   ]
  },
  {
   "cell_type": "code",
   "execution_count": 28,
   "id": "da1d9b89-659c-45bb-8a73-f0789bf44c45",
   "metadata": {},
   "outputs": [],
   "source": [
    "# Calculate IQR for Age and Salary\n",
    "Q1_age = df['Age'].quantile(0.25)\n",
    "Q3_age = df['Age'].quantile(0.75)\n",
    "IQR_age = Q3_age - Q1_age"
   ]
  },
  {
   "cell_type": "code",
   "execution_count": 29,
   "id": "8f4b268e-d0c6-4e46-89ef-0e0f24ad2a62",
   "metadata": {},
   "outputs": [],
   "source": [
    "# Define bounds for outliers\n",
    "lower_bound_age = Q1_age - 1.5 * IQR_age\n",
    "upper_bound_age = Q3_age + 1.5 * IQR_age"
   ]
  },
  {
   "cell_type": "code",
   "execution_count": 30,
   "id": "88e83d3c-f91d-4845-a6e6-b9d08a60e3c2",
   "metadata": {},
   "outputs": [
    {
     "name": "stdout",
     "output_type": "stream",
     "text": [
      "Number of Age Outliers (IQR): 0\n"
     ]
    }
   ],
   "source": [
    "# Identify outliers based on IQR\n",
    "age_outliers = df[(df['Age'] < lower_bound_age) | (df['Age'] > upper_bound_age)]\n",
    "print(\"Number of Age Outliers (IQR):\", len(age_outliers))"
   ]
  },
  {
   "cell_type": "markdown",
   "id": "8cfdd547-df7e-4042-9675-cd2a689c543a",
   "metadata": {},
   "source": [
    "If there are no points outside the boxplot whiskers, it means that there are no outliers based on the Interquartile Range (IQR) method."
   ]
  },
  {
   "cell_type": "markdown",
   "id": "6caa8147-a362-41cd-9c53-667a6e192313",
   "metadata": {},
   "source": [
    "Handle Salary Noise:\n",
    "- Identify and handle any noise in the 'Salary' column. Ensure salary values are within a reasonable range and free from random fluctuations."
   ]
  },
  {
   "cell_type": "code",
   "execution_count": 31,
   "id": "345d6bca-29ef-4a84-a0e0-d600f9bc667c",
   "metadata": {},
   "outputs": [
    {
     "data": {
      "image/png": "[encoded data removed]",
      "text/plain": [
       "<Figure size 1200x600 with 2 Axes>"
      ]
     },
     "metadata": {},
     "output_type": "display_data"
    }
   ],
   "source": [
    "# Plot the distribution of the Salary column\n",
    "plt.figure(figsize=(12, 6))\n",
    "\n",
    "# Box plot\n",
    "plt.subplot(1, 2, 1)\n",
    "sns.boxplot(y=df['Salary'])\n",
    "plt.title('Salary Box Plot')\n",
    "\n",
    "# Histogram\n",
    "plt.subplot(1, 2, 2)\n",
    "sns.histplot(df['Salary'], bins=50, kde=True)\n",
    "plt.title('Salary Histogram')\n",
    "\n",
    "plt.show()"
   ]
  },
  {
   "cell_type": "code",
   "execution_count": 32,
   "id": "cd11c1a1-ab32-43f2-92f7-d42086166d8e",
   "metadata": {},
   "outputs": [],
   "source": [
    "Q1_salary = df['Salary'].quantile(0.25)\n",
    "Q3_salary = df['Salary'].quantile(0.75)\n",
    "IQR_salary = Q3_salary - Q1_salary"
   ]
  },
  {
   "cell_type": "code",
   "execution_count": 33,
   "id": "9ed44458-24e5-4cfc-97cd-9afee18d2af5",
   "metadata": {},
   "outputs": [],
   "source": [
    "# Define bounds for outliers\n",
    "lower_bound_salary = Q1_salary - 1.5 * IQR_salary\n",
    "upper_bound_salary = Q3_salary + 1.5 * IQR_salary"
   ]
  },
  {
   "cell_type": "code",
   "execution_count": 34,
   "id": "515b7221-4310-4124-aa4a-3ecccb66cd1a",
   "metadata": {},
   "outputs": [
    {
     "name": "stdout",
     "output_type": "stream",
     "text": [
      "Number of salary Outliers (IQR): 0\n"
     ]
    }
   ],
   "source": [
    "# Identify outliers based on IQR\n",
    "salary_outliers = df[(df['Salary'] < lower_bound_salary) | (df['Age'] > upper_bound_salary)]\n",
    "print(\"Number of salary Outliers (IQR):\", len(salary_outliers))"
   ]
  },
  {
   "cell_type": "code",
   "execution_count": 35,
   "id": "58dfba9e-5c13-4295-94ad-8ae5ee3f6020",
   "metadata": {},
   "outputs": [
    {
     "data": {
      "text/plain": [
       "0         88552.000000\n",
       "1        139227.000000\n",
       "2         65550.000000\n",
       "3        139932.000000\n",
       "4        143456.000000\n",
       "             ...      \n",
       "10994    147555.000000\n",
       "10996     89241.000000\n",
       "10997    122609.594149\n",
       "10998    147322.005171\n",
       "10999    149224.000000\n",
       "Name: Salary, Length: 9731, dtype: float64"
      ]
     },
     "execution_count": 35,
     "metadata": {},
     "output_type": "execute_result"
    }
   ],
   "source": [
    "df['Salary']"
   ]
  },
  {
   "cell_type": "markdown",
   "id": "f4679ac7-3e2b-4ad0-b05f-b669d06b4c59",
   "metadata": {},
   "source": [
    "salary values are floating-point numbers with a high precision, which might not be necessary for salary data. Typically, salaries are represented as whole numbers or with two decimal places for cents."
   ]
  },
  {
   "cell_type": "markdown",
   "id": "a686d247-413b-4786-863a-a8ce7090d232",
   "metadata": {},
   "source": [
    "Round Salary Values: Convert salary values to a consistent format with two decimal places.\n",
    "\n",
    "Check for Logical Range: Ensure the salary values are within a reasonable range (e.g., no negative values or excessively high values that don't make sense in context)."
   ]
  },
  {
   "cell_type": "code",
   "execution_count": 36,
   "id": "ab155d04-64c5-4fb5-8aa1-978e3506b089",
   "metadata": {},
   "outputs": [],
   "source": [
    "# Get basic statistics\n",
    "mean_salary = df['Salary'].mean()\n",
    "median_salary = df['Salary'].median()\n",
    "std_salary = df['Salary'].std()\n",
    "q1_salary = df['Salary'].quantile(0.25)\n",
    "q3_salary = df['Salary'].quantile(0.75)\n",
    "iqr_salary = q3_salary - q1_salary"
   ]
  },
  {
   "cell_type": "code",
   "execution_count": 37,
   "id": "ea114db8-0bb3-4616-bda4-fba06dd88ba7",
   "metadata": {},
   "outputs": [],
   "source": [
    "# Define boundaries using IQR\n",
    "lower_bound_iqr = q1_salary - 1.5 * iqr_salary\n",
    "upper_bound_iqr = q3_salary + 1.5 * iqr_salary"
   ]
  },
  {
   "cell_type": "code",
   "execution_count": 38,
   "id": "08e13b31-2af6-4861-b900-131c5d9e9a91",
   "metadata": {},
   "outputs": [],
   "source": [
    "# Alternatively, define boundaries using standard deviation\n",
    "lower_bound_std = mean_salary - 3 * std_salary\n",
    "upper_bound_std = mean_salary + 3 * std_salary"
   ]
  },
  {
   "cell_type": "code",
   "execution_count": 39,
   "id": "d093b45e-a17a-469f-ae04-33009bd63c1a",
   "metadata": {},
   "outputs": [],
   "source": [
    "# Choose which boundaries to use based on the analysis\n",
    "lower_bound = max(lower_bound_iqr, lower_bound_std)\n",
    "upper_bound = min(upper_bound_iqr, upper_bound_std)"
   ]
  },
  {
   "cell_type": "code",
   "execution_count": 40,
   "id": "d3bdeee8-9bb9-4a26-b7e8-dbf4bd57a878",
   "metadata": {},
   "outputs": [],
   "source": [
    "# Apply boundaries to the salary column\n",
    "df['Salary'] = df['Salary'].apply(lambda x: min(max(x, lower_bound), upper_bound))\n"
   ]
  },
  {
   "cell_type": "code",
   "execution_count": 41,
   "id": "00e72da3-b192-45b0-a437-5241b3bb62f5",
   "metadata": {},
   "outputs": [
    {
     "name": "stdout",
     "output_type": "stream",
     "text": [
      "count      9731.000000\n",
      "mean      89822.232174\n",
      "std       33111.791150\n",
      "min       24655.136613\n",
      "25%       63020.176853\n",
      "50%       89241.000000\n",
      "75%      116399.000000\n",
      "max      176156.206747\n",
      "Name: Salary, dtype: float64\n"
     ]
    }
   ],
   "source": [
    "# Checking the results\n",
    "print(df['Salary'].describe())"
   ]
  },
  {
   "cell_type": "markdown",
   "id": "879857b4-fb31-469b-bc9b-09914be935ae",
   "metadata": {},
   "source": [
    "Check whether the above capping has effected the salary"
   ]
  },
  {
   "cell_type": "code",
   "execution_count": 42,
   "id": "cd1e8e8d-2d62-4175-8ae2-468eeb326153",
   "metadata": {},
   "outputs": [
    {
     "name": "stdout",
     "output_type": "stream",
     "text": [
      "Number of salaries below -9513.141276509763: 0\n",
      "Number of salaries above 189157.60562524584: 0\n"
     ]
    }
   ],
   "source": [
    "# Count values outside boundaries\n",
    "below_lower_bound = df[df['Salary'] < lower_bound].shape[0]\n",
    "above_upper_bound = df[df['Salary'] > upper_bound].shape[0]\n",
    "\n",
    "print(f\"Number of salaries below {lower_bound}: {below_lower_bound}\")\n",
    "print(f\"Number of salaries above {upper_bound}: {above_upper_bound}\")"
   ]
  },
  {
   "cell_type": "markdown",
   "id": "1cd7a982-1175-4292-b96a-56f1ac51298b",
   "metadata": {},
   "source": [
    "This indicates that there are no salary values below the lower boundary of -9433.48 or above the upper boundary of 189073.27 after cleaning. This suggests that the salary data has been successfully capped within the specified range"
   ]
  },
  {
   "cell_type": "code",
   "execution_count": 43,
   "id": "832f94d0-23a7-4cf0-abfc-289cfb4c3542",
   "metadata": {},
   "outputs": [],
   "source": [
    "#Correcting inconsistencies\n",
    "# Correct invalid emails\n",
    "df['Email'] = df['Email'].apply(lambda x: x if '@' in str(x) else None)"
   ]
  },
  {
   "cell_type": "markdown",
   "id": "ad19d556-093f-44f6-b9c8-226facda7487",
   "metadata": {},
   "source": [
    "Applies a function to the Email column to set any invalid emails (those without '@') to None."
   ]
  },
  {
   "cell_type": "code",
   "execution_count": 44,
   "id": "55c2124f-67c6-42c2-abc7-e07bebb26425",
   "metadata": {},
   "outputs": [],
   "source": [
    "#Ensuring Unique Identifiers\n",
    "# Check for missing IDs\n",
    "if df['ID'].isnull().sum() > 0:\n",
    "    print(\"Warning: Missing IDs found\")\n",
    "    df = df.dropna(subset=['ID'])"
   ]
  },
  {
   "cell_type": "code",
   "execution_count": 45,
   "id": "0767770d-c9e6-4fa9-aeff-bee89342b287",
   "metadata": {},
   "outputs": [
    {
     "name": "stdout",
     "output_type": "stream",
     "text": [
      "Warning: Duplicate IDs found\n"
     ]
    }
   ],
   "source": [
    "# Check for duplicate IDs\n",
    "if df['ID'].duplicated().any():\n",
    "    print(\"Warning: Duplicate IDs found\")\n",
    "    df = df.drop_duplicates(subset=['ID'])"
   ]
  },
  {
   "cell_type": "code",
   "execution_count": 46,
   "id": "5d3663d8-e9b0-454a-ab65-8103e94af3c0",
   "metadata": {},
   "outputs": [],
   "source": [
    "#Ensure ID Format Consistency\n",
    "# Ensure all IDs are strings\n",
    "df['ID'] = df['ID'].astype(str)"
   ]
  },
  {
   "cell_type": "code",
   "execution_count": 47,
   "id": "66f7776e-49c5-4818-8b2a-ee7c9e23ae3d",
   "metadata": {},
   "outputs": [],
   "source": [
    "# Remove duplicate rows\n",
    "df = df.drop_duplicates()"
   ]
  },
  {
   "cell_type": "code",
   "execution_count": 48,
   "id": "d12f0d26-6351-402c-bfe5-4089e001cc5e",
   "metadata": {},
   "outputs": [],
   "source": [
    "# Remove unrealistic ages (e.g., age > 90 or age < 18)\n",
    "df = df[(df['Age'] <= 90) & (df['Age'] >= 18)]"
   ]
  },
  {
   "cell_type": "markdown",
   "id": "25cd1d21-be60-4bd2-b034-aa54c3772613",
   "metadata": {},
   "source": [
    "Removes rows with unrealistic ages, assuming valid ages are between 18 and 90."
   ]
  },
  {
   "cell_type": "code",
   "execution_count": 49,
   "id": "63cdbb1a-d34d-42aa-b624-3980954162d5",
   "metadata": {},
   "outputs": [
    {
     "data": {
      "text/plain": [
       "ID               0\n",
       "Name           967\n",
       "Age              0\n",
       "Email         2202\n",
       "Join Date        0\n",
       "Salary           0\n",
       "Department       0\n",
       "dtype: int64"
      ]
     },
     "execution_count": 49,
     "metadata": {},
     "output_type": "execute_result"
    }
   ],
   "source": [
    "df.isnull().sum()"
   ]
  },
  {
   "cell_type": "code",
   "execution_count": 50,
   "id": "59d4ebbd-562c-4ad5-8ef5-f279cbc59229",
   "metadata": {},
   "outputs": [
    {
     "name": "stdout",
     "output_type": "stream",
     "text": [
      "Number of missing values per column after filling:\n",
      "ID            0\n",
      "Name          0\n",
      "Age           0\n",
      "Email         0\n",
      "Join Date     0\n",
      "Salary        0\n",
      "Department    0\n",
      "dtype: int64\n"
     ]
    }
   ],
   "source": [
    "# Fill missing Name values with \"Unknown Name\"\n",
    "df['Name'].fillna('Unknown Name', inplace=True)\n",
    "\n",
    "# Fill missing Email values with \"unknown@example.com\"\n",
    "df['Email'].fillna('unknown@example.com', inplace=True)\n",
    "\n",
    "# Check the result to ensure no missing values remain\n",
    "print(\"Number of missing values per column after filling:\")\n",
    "print(df.isnull().sum())"
   ]
  },
  {
   "cell_type": "markdown",
   "id": "0677bdcb-563d-4a32-8c22-cf5b428f2c0e",
   "metadata": {},
   "source": [
    "The SettingWithCopyWarning is raised because pandas is warning you that you might be working on a view of the DataFrame rather than a copy, which could lead to unintended side effects. To avoid this, you can use the loc accessor, which helps ensure that you're working on the actual DataFrame and not a view."
   ]
  },
  {
   "cell_type": "code",
   "execution_count": 51,
   "id": "dc51917c-9a1f-408c-a125-31fd70776288",
   "metadata": {},
   "outputs": [
    {
     "name": "stdout",
     "output_type": "stream",
     "text": [
      "Number of missing values per column after filling:\n",
      "ID            0\n",
      "Name          0\n",
      "Age           0\n",
      "Email         0\n",
      "Join Date     0\n",
      "Salary        0\n",
      "Department    0\n",
      "dtype: int64\n"
     ]
    }
   ],
   "source": [
    "# Fill missing Name values with \"Unknown Name\"\n",
    "df.loc[df['Name'].isnull(), 'Name'] = 'Unknown Name'\n",
    "\n",
    "# Fill missing Email values with \"unknown@example.com\"\n",
    "df.loc[df['Email'].isnull(), 'Email'] = 'unknown@example.com'\n",
    "\n",
    "# Check the result to ensure no missing values remain\n",
    "print(\"Number of missing values per column after filling:\")\n",
    "print(df.isnull().sum())"
   ]
  },
  {
   "cell_type": "code",
   "execution_count": 52,
   "id": "bebdb764-adc4-4bf9-a6cc-43a70e0d234d",
   "metadata": {},
   "outputs": [
    {
     "name": "stdout",
     "output_type": "stream",
     "text": [
      "<class 'pandas.core.frame.DataFrame'>\n",
      "Index: 8908 entries, 0 to 9999\n",
      "Data columns (total 7 columns):\n",
      " #   Column      Non-Null Count  Dtype         \n",
      "---  ------      --------------  -----         \n",
      " 0   ID          8908 non-null   object        \n",
      " 1   Name        8908 non-null   object        \n",
      " 2   Age         8908 non-null   float64       \n",
      " 3   Email       8908 non-null   object        \n",
      " 4   Join Date   8908 non-null   datetime64[ns]\n",
      " 5   Salary      8908 non-null   float64       \n",
      " 6   Department  8908 non-null   object        \n",
      "dtypes: datetime64[ns](1), float64(2), object(4)\n",
      "memory usage: 556.8+ KB\n",
      "None\n",
      "                                     ID                     Name   Age  \\\n",
      "0  1e407ff9-6255-489d-a0de-34135d4f74bd            Hunter Thomas  25.0   \n",
      "1  379f55b8-87d5-4739-a146-7400b78c24d1             Jeremy Irwin  90.0   \n",
      "2  18261368-dfa1-47f0-afc6-bddf45926b07  Jennifer Hammondquickly  66.0   \n",
      "3  ae7cf7cf-17cf-4c8b-9c44-4f61a9a238e5          Sydney Taylorso  39.0   \n",
      "4  14ed3e6a-e0f5-4bbe-8d93-8665267f5c90                Julia Lee  71.0   \n",
      "\n",
      "                     Email  Join Date    Salary   Department  \n",
      "0       xlopez@hotmail.com 2022-03-14   88552.0        Sales  \n",
      "1      unknown@example.com 2022-07-07  139227.0      Support  \n",
      "2      unknown@example.com 2023-11-21   65550.0  Engineering  \n",
      "3      unknown@example.com 2021-11-05  139932.0      Support  \n",
      "4  figueroakayla@yahoo.com 2022-03-14  143456.0    Marketing  \n",
      "ID            0\n",
      "Name          0\n",
      "Age           0\n",
      "Email         0\n",
      "Join Date     0\n",
      "Salary        0\n",
      "Department    0\n",
      "dtype: int64\n"
     ]
    }
   ],
   "source": [
    "# Final clean dataframe\n",
    "print(df.info())\n",
    "print(df.head())\n",
    "\n",
    "# Check the number of missing values after cleaning\n",
    "print(df.isnull().sum())"
   ]
  },
  {
   "cell_type": "markdown",
   "id": "56b9fbbc-b107-419a-ae12-4477e2eaad29",
   "metadata": {},
   "source": [
    "#### Save the cleaned dataset as cleaned_dataset.csv"
   ]
  },
  {
   "cell_type": "code",
   "execution_count": 56,
   "id": "a4df80fc-3a97-4444-adf8-3fc141411487",
   "metadata": {},
   "outputs": [],
   "source": [
    "\n",
    "file_path = 'cleaned_dataset.csv'\n"
   ]
  },
  {
   "cell_type": "code",
   "execution_count": 57,
   "id": "732b5ed1-7926-4284-a6a1-065c215208b9",
   "metadata": {},
   "outputs": [],
   "source": [
    "# Save the DataFrame to a CSV file\n",
    "df.to_csv(file_path, index=False)"
   ]
  },
  {
   "cell_type": "code",
   "execution_count": 58,
   "id": "d8a50d8c-ba42-4275-86c4-23c33af0ebe2",
   "metadata": {},
   "outputs": [
    {
     "name": "stdout",
     "output_type": "stream",
     "text": [
      "Cleaned dataset has been saved to cleaned_dataset.csv.\n"
     ]
    }
   ],
   "source": [
    "print(f\"Cleaned dataset has been saved to {file_path}.\")"
   ]
  },
  {
   "cell_type": "code",
   "execution_count": null,
   "id": "c3ffc5b5-eb4d-42c8-a398-fd852f087a3b",
   "metadata": {},
   "outputs": [],
   "source": []
  }
 ],
 "metadata": {
  "kernelspec": {
   "display_name": "Python 3 (ipykernel)",
   "language": "python",
   "name": "python3"
  },
  "language_info": {
   "codemirror_mode": {
    "name": "ipython",
    "version": 3
   },
   "file_extension": ".py",
   "mimetype": "text/x-python",
   "name": "python",
   "nbconvert_exporter": "python",
   "pygments_lexer": "ipython3",
   "version": "3.11.4"
  }
 },
 "nbformat": 4,
 "nbformat_minor": 5
}
